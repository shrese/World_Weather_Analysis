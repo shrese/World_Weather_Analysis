{
 "cells": [
  {
   "cell_type": "markdown",
   "metadata": {},
   "source": [
    "## Deliverable 3. Create a Travel Itinerary Map."
   ]
  },
  {
   "cell_type": "code",
   "execution_count": 105,
   "metadata": {},
   "outputs": [
    {
     "data": {
      "text/html": [
       "<style>.container { width:100% !important; }</style>"
      ],
      "text/plain": [
       "<IPython.core.display.HTML object>"
      ]
     },
     "metadata": {},
     "output_type": "display_data"
    }
   ],
   "source": [
    "# Dependencies and Setup\n",
    "import pandas as pd\n",
    "import requests\n",
    "import gmaps\n",
    "\n",
    "# Import API key\n",
    "from config import g_key\n",
    "\n",
    "# Configure gmaps\n",
    "gmaps.configure(api_key=g_key)\n",
    "\n",
    "from IPython.core.display import display, HTML\n",
    "display(HTML(\"<style>.container { width:100% !important; }</style>\"))"
   ]
  },
  {
   "cell_type": "code",
   "execution_count": 106,
   "metadata": {},
   "outputs": [
    {
     "data": {
      "text/html": [
       "<div>\n",
       "<style scoped>\n",
       "    .dataframe tbody tr th:only-of-type {\n",
       "        vertical-align: middle;\n",
       "    }\n",
       "\n",
       "    .dataframe tbody tr th {\n",
       "        vertical-align: top;\n",
       "    }\n",
       "\n",
       "    .dataframe thead th {\n",
       "        text-align: right;\n",
       "    }\n",
       "</style>\n",
       "<table border=\"1\" class=\"dataframe\">\n",
       "  <thead>\n",
       "    <tr style=\"text-align: right;\">\n",
       "      <th></th>\n",
       "      <th>City_ID</th>\n",
       "      <th>City</th>\n",
       "      <th>Country</th>\n",
       "      <th>Max Temp</th>\n",
       "      <th>City Description</th>\n",
       "      <th>Lat</th>\n",
       "      <th>Lng</th>\n",
       "      <th>Hotel Name</th>\n",
       "    </tr>\n",
       "  </thead>\n",
       "  <tbody>\n",
       "    <tr>\n",
       "      <th>0</th>\n",
       "      <td>5</td>\n",
       "      <td>Vercelli</td>\n",
       "      <td>IT</td>\n",
       "      <td>78.62</td>\n",
       "      <td>scattered clouds</td>\n",
       "      <td>45.3231</td>\n",
       "      <td>8.4153</td>\n",
       "      <td>Hotel Cinzia Ristorante</td>\n",
       "    </tr>\n",
       "    <tr>\n",
       "      <th>1</th>\n",
       "      <td>8</td>\n",
       "      <td>Jamestown</td>\n",
       "      <td>US</td>\n",
       "      <td>77.18</td>\n",
       "      <td>clear sky</td>\n",
       "      <td>42.0970</td>\n",
       "      <td>-79.2353</td>\n",
       "      <td>Hampton Inn &amp; Suites Jamestown</td>\n",
       "    </tr>\n",
       "    <tr>\n",
       "      <th>2</th>\n",
       "      <td>11</td>\n",
       "      <td>Cabedelo</td>\n",
       "      <td>BR</td>\n",
       "      <td>75.87</td>\n",
       "      <td>few clouds</td>\n",
       "      <td>-6.9811</td>\n",
       "      <td>-34.8339</td>\n",
       "      <td>Hotel Pigalle</td>\n",
       "    </tr>\n",
       "    <tr>\n",
       "      <th>3</th>\n",
       "      <td>14</td>\n",
       "      <td>Mitsamiouli</td>\n",
       "      <td>KM</td>\n",
       "      <td>77.00</td>\n",
       "      <td>few clouds</td>\n",
       "      <td>-11.3847</td>\n",
       "      <td>43.2844</td>\n",
       "      <td>Foyer ADM</td>\n",
       "    </tr>\n",
       "    <tr>\n",
       "      <th>4</th>\n",
       "      <td>17</td>\n",
       "      <td>Bonthe</td>\n",
       "      <td>SL</td>\n",
       "      <td>76.69</td>\n",
       "      <td>light rain</td>\n",
       "      <td>7.5264</td>\n",
       "      <td>-12.5050</td>\n",
       "      <td>Bonthe Holiday Village</td>\n",
       "    </tr>\n",
       "    <tr>\n",
       "      <th>...</th>\n",
       "      <td>...</td>\n",
       "      <td>...</td>\n",
       "      <td>...</td>\n",
       "      <td>...</td>\n",
       "      <td>...</td>\n",
       "      <td>...</td>\n",
       "      <td>...</td>\n",
       "      <td>...</td>\n",
       "    </tr>\n",
       "    <tr>\n",
       "      <th>175</th>\n",
       "      <td>554</td>\n",
       "      <td>Wooster</td>\n",
       "      <td>US</td>\n",
       "      <td>80.22</td>\n",
       "      <td>clear sky</td>\n",
       "      <td>40.8051</td>\n",
       "      <td>-81.9351</td>\n",
       "      <td>Hilton Garden Inn Wooster</td>\n",
       "    </tr>\n",
       "    <tr>\n",
       "      <th>176</th>\n",
       "      <td>558</td>\n",
       "      <td>Kalur Kot</td>\n",
       "      <td>PK</td>\n",
       "      <td>80.02</td>\n",
       "      <td>overcast clouds</td>\n",
       "      <td>32.1564</td>\n",
       "      <td>71.2594</td>\n",
       "      <td>CHAAND STREET</td>\n",
       "    </tr>\n",
       "    <tr>\n",
       "      <th>177</th>\n",
       "      <td>559</td>\n",
       "      <td>Arambagh</td>\n",
       "      <td>IN</td>\n",
       "      <td>83.35</td>\n",
       "      <td>light rain</td>\n",
       "      <td>22.8833</td>\n",
       "      <td>87.7833</td>\n",
       "      <td>SDO Bunglow</td>\n",
       "    </tr>\n",
       "    <tr>\n",
       "      <th>178</th>\n",
       "      <td>560</td>\n",
       "      <td>Belmonte</td>\n",
       "      <td>BR</td>\n",
       "      <td>75.70</td>\n",
       "      <td>clear sky</td>\n",
       "      <td>-15.8631</td>\n",
       "      <td>-38.8828</td>\n",
       "      <td>Pousada Monte Carmelo O Pão</td>\n",
       "    </tr>\n",
       "    <tr>\n",
       "      <th>179</th>\n",
       "      <td>564</td>\n",
       "      <td>Alexandria</td>\n",
       "      <td>EG</td>\n",
       "      <td>78.76</td>\n",
       "      <td>clear sky</td>\n",
       "      <td>31.2156</td>\n",
       "      <td>29.9553</td>\n",
       "      <td>Royal Crown Hotel</td>\n",
       "    </tr>\n",
       "  </tbody>\n",
       "</table>\n",
       "<p>180 rows × 8 columns</p>\n",
       "</div>"
      ],
      "text/plain": [
       "     City_ID         City Country  Max Temp  City Description      Lat  \\\n",
       "0          5     Vercelli      IT     78.62  scattered clouds  45.3231   \n",
       "1          8    Jamestown      US     77.18         clear sky  42.0970   \n",
       "2         11     Cabedelo      BR     75.87        few clouds  -6.9811   \n",
       "3         14  Mitsamiouli      KM     77.00        few clouds -11.3847   \n",
       "4         17       Bonthe      SL     76.69        light rain   7.5264   \n",
       "..       ...          ...     ...       ...               ...      ...   \n",
       "175      554      Wooster      US     80.22         clear sky  40.8051   \n",
       "176      558    Kalur Kot      PK     80.02   overcast clouds  32.1564   \n",
       "177      559     Arambagh      IN     83.35        light rain  22.8833   \n",
       "178      560     Belmonte      BR     75.70         clear sky -15.8631   \n",
       "179      564   Alexandria      EG     78.76         clear sky  31.2156   \n",
       "\n",
       "         Lng                      Hotel Name  \n",
       "0     8.4153         Hotel Cinzia Ristorante  \n",
       "1   -79.2353  Hampton Inn & Suites Jamestown  \n",
       "2   -34.8339                   Hotel Pigalle  \n",
       "3    43.2844                       Foyer ADM  \n",
       "4   -12.5050          Bonthe Holiday Village  \n",
       "..       ...                             ...  \n",
       "175 -81.9351       Hilton Garden Inn Wooster  \n",
       "176  71.2594                   CHAAND STREET  \n",
       "177  87.7833                     SDO Bunglow  \n",
       "178 -38.8828     Pousada Monte Carmelo O Pão  \n",
       "179  29.9553               Royal Crown Hotel  \n",
       "\n",
       "[180 rows x 8 columns]"
      ]
     },
     "execution_count": 106,
     "metadata": {},
     "output_type": "execute_result"
    }
   ],
   "source": [
    "# 1. Read the WeatherPy_vacation.csv into a DataFrame.\n",
    "vacation_df = pd.read_csv(\"..\\Vacation_Search/WeatherPy_vacation.csv\")\n",
    "vacation_df"
   ]
  },
  {
   "cell_type": "code",
   "execution_count": 107,
   "metadata": {},
   "outputs": [],
   "source": [
    "# 2. Using the template add the city name, the country code, the weather description and maximum temperature for the city.\n",
    "info_box_template = \"\"\"\n",
    "<dl>\n",
    "<dt>Hotel Name</dt><dd>{Hotel Name}</dd>\n",
    "<dt>City</dt><dd>{City}</dd>\n",
    "<dt>Country</dt><dd>{Country}</dd>\n",
    "<dt>Max Temp</dt><dd>{Max Temp} °F</dd>\n",
    "<dt>City Descripton</dt><dd>{City Description}</dd>\n",
    "</dl>\n",
    "\"\"\"\n",
    "\n",
    "# 3a. Get the data from each row and add it to the formatting template and store the data in a list.\n",
    "hotel_info = [info_box_template.format(**row) for index, row in vacation_df.iterrows()]\n",
    "\n",
    "# 3b. Get the latitude and longitude from each row and store in a new DataFrame.\n",
    "locations = vacation_df[[\"Lat\", \"Lng\"]]"
   ]
  },
  {
   "cell_type": "code",
   "execution_count": 108,
   "metadata": {},
   "outputs": [
    {
     "data": {
      "application/vnd.jupyter.widget-view+json": {
       "model_id": "7a53e42fa3f746f682cb7154471d4bc4",
       "version_major": 2,
       "version_minor": 0
      },
      "text/plain": [
       "Figure(layout=FigureLayout(border='1px solid black', height='550px', margin='0 auto 0 auto', padding='1px', wi…"
      ]
     },
     "metadata": {},
     "output_type": "display_data"
    }
   ],
   "source": [
    "# 4a. Add a marker layer for each city to the map.\n",
    "figure_layout = {\n",
    "    'width': '1800px',\n",
    "    'height': '550px',\n",
    "    'border': '1px solid black',\n",
    "    'padding': '1px',\n",
    "    'margin': '0 auto 0 auto'\n",
    "}\n",
    "\n",
    "fig = gmaps.figure(layout=figure_layout)\n",
    "markers = gmaps.marker_layer(locations, info_box_content=hotel_info)\n",
    "\n",
    "fig.add_layer(markers)\n",
    "\n",
    "# 4b. Display the figure\n",
    "fig"
   ]
  },
  {
   "cell_type": "code",
   "execution_count": 109,
   "metadata": {},
   "outputs": [],
   "source": [
    "# From the map above pick 4 cities and create a vacation itinerary route to travel between the four cities. \n",
    "# 5. Create DataFrames for each city by filtering the 'vacation_df' using the loc method. \n",
    "# Hint: The starting and ending city should be the same city.4\n",
    "# go into the vacation df look in column city and find alexandria\n",
    "\n",
    "vacation_start = vacation_df.loc[(vacation_df[\"City\"] == \"Arlit\")]\n",
    "vacation_end = vacation_df.loc[(vacation_df[\"City\"] == \"Arlit\")]\n",
    "vacation_stop1 = vacation_df.loc[(vacation_df[\"City\"] == \"Maiduguri\")]\n",
    "vacation_stop2 = vacation_df.loc[(vacation_df[\"City\"] == \"Moussoro\")]\n",
    "vacation_stop3 = vacation_df.loc[(vacation_df[\"City\"] == \"Biltine\")]"
   ]
  },
  {
   "cell_type": "code",
   "execution_count": 110,
   "metadata": {},
   "outputs": [],
   "source": [
    "# 6. Get the latitude-longitude pairs as tuples from each city DataFrame using the to_numpy function and list indexing.\n",
    "#start = city_start[\"Lat\"].to_numpy()[0], city_start[\"Lng\"].to_numpy()[0]\n",
    "start = vacation_start[\"Lat\"].to_numpy()[0], vacation_start[\"Lng\"].to_numpy()[0]\n",
    "end = vacation_end[\"Lat\"].to_numpy()[0], vacation_end[\"Lng\"].to_numpy()[0]\n",
    "stop1 = vacation_stop1[\"Lat\"].to_numpy()[0], vacation_stop1[\"Lng\"].to_numpy()[0]\n",
    "stop2 = vacation_stop2[\"Lat\"].to_numpy()[0], vacation_stop2[\"Lng\"].to_numpy()[0]\n",
    "stop3 = vacation_stop3[\"Lat\"].to_numpy()[0], vacation_stop3[\"Lng\"].to_numpy()[0]"
   ]
  },
  {
   "cell_type": "code",
   "execution_count": 111,
   "metadata": {
    "scrolled": true
   },
   "outputs": [
    {
     "data": {
      "application/vnd.jupyter.widget-view+json": {
       "model_id": "b1f32ca1ff854716824080c50f61ca03",
       "version_major": 2,
       "version_minor": 0
      },
      "text/plain": [
       "Figure(layout=FigureLayout(height='420px'))"
      ]
     },
     "metadata": {},
     "output_type": "display_data"
    }
   ],
   "source": [
    "# 7. Create a direction layer map using the start and end latitude-longitude pairs,\n",
    "# and stop1, stop2, and stop3 as the waypoints. The travel_mode should be \"DRIVING\", \"BICYCLING\", or \"WALKING\".\n",
    "figure_layout = {\n",
    "    'width': '50px',\n",
    "    'height': '50px',\n",
    "    'border': '1px solid black',\n",
    "    'padding': '1px',\n",
    "    'margin': '0 auto 0 auto'\n",
    "}\n",
    "\n",
    "fig = gmaps.figure()\n",
    "vacation_itinerary = gmaps.directions_layer(\n",
    "        start, end, waypoints=[stop1, stop2, stop3],\n",
    "        travel_mode='DRIVING')\n",
    "\n",
    "fig.add_layer(vacation_itinerary)\n",
    "\n",
    "fig\n"
   ]
  },
  {
   "cell_type": "code",
   "execution_count": 118,
   "metadata": {},
   "outputs": [
    {
     "data": {
      "text/html": [
       "<div>\n",
       "<style scoped>\n",
       "    .dataframe tbody tr th:only-of-type {\n",
       "        vertical-align: middle;\n",
       "    }\n",
       "\n",
       "    .dataframe tbody tr th {\n",
       "        vertical-align: top;\n",
       "    }\n",
       "\n",
       "    .dataframe thead th {\n",
       "        text-align: right;\n",
       "    }\n",
       "</style>\n",
       "<table border=\"1\" class=\"dataframe\">\n",
       "  <thead>\n",
       "    <tr style=\"text-align: right;\">\n",
       "      <th></th>\n",
       "      <th>City_ID</th>\n",
       "      <th>City</th>\n",
       "      <th>Country</th>\n",
       "      <th>Max Temp</th>\n",
       "      <th>City Description</th>\n",
       "      <th>Lat</th>\n",
       "      <th>Lng</th>\n",
       "      <th>Hotel Name</th>\n",
       "    </tr>\n",
       "  </thead>\n",
       "  <tbody>\n",
       "    <tr>\n",
       "      <th>0</th>\n",
       "      <td>232</td>\n",
       "      <td>Arlit</td>\n",
       "      <td>NE</td>\n",
       "      <td>92.75</td>\n",
       "      <td>broken clouds</td>\n",
       "      <td>18.7369</td>\n",
       "      <td>7.3853</td>\n",
       "      <td>Case de Passage De la Prefecture</td>\n",
       "    </tr>\n",
       "    <tr>\n",
       "      <th>1</th>\n",
       "      <td>388</td>\n",
       "      <td>Maiduguri</td>\n",
       "      <td>NG</td>\n",
       "      <td>78.76</td>\n",
       "      <td>light rain</td>\n",
       "      <td>11.8464</td>\n",
       "      <td>13.1603</td>\n",
       "      <td>Kagel Mari Police Station</td>\n",
       "    </tr>\n",
       "    <tr>\n",
       "      <th>2</th>\n",
       "      <td>356</td>\n",
       "      <td>Moussoro</td>\n",
       "      <td>TD</td>\n",
       "      <td>84.72</td>\n",
       "      <td>broken clouds</td>\n",
       "      <td>13.6408</td>\n",
       "      <td>16.4901</td>\n",
       "      <td>Pharmacie alnadja Moussoro</td>\n",
       "    </tr>\n",
       "    <tr>\n",
       "      <th>3</th>\n",
       "      <td>428</td>\n",
       "      <td>Biltine</td>\n",
       "      <td>TD</td>\n",
       "      <td>79.59</td>\n",
       "      <td>overcast clouds</td>\n",
       "      <td>14.5333</td>\n",
       "      <td>20.9167</td>\n",
       "      <td>Hôtel Trois Étoiles de Biltine</td>\n",
       "    </tr>\n",
       "    <tr>\n",
       "      <th>4</th>\n",
       "      <td>232</td>\n",
       "      <td>Arlit</td>\n",
       "      <td>NE</td>\n",
       "      <td>92.75</td>\n",
       "      <td>broken clouds</td>\n",
       "      <td>18.7369</td>\n",
       "      <td>7.3853</td>\n",
       "      <td>Case de Passage De la Prefecture</td>\n",
       "    </tr>\n",
       "  </tbody>\n",
       "</table>\n",
       "</div>"
      ],
      "text/plain": [
       "   City_ID       City Country  Max Temp City Description      Lat      Lng  \\\n",
       "0      232      Arlit      NE     92.75    broken clouds  18.7369   7.3853   \n",
       "1      388  Maiduguri      NG     78.76       light rain  11.8464  13.1603   \n",
       "2      356   Moussoro      TD     84.72    broken clouds  13.6408  16.4901   \n",
       "3      428    Biltine      TD     79.59  overcast clouds  14.5333  20.9167   \n",
       "4      232      Arlit      NE     92.75    broken clouds  18.7369   7.3853   \n",
       "\n",
       "                         Hotel Name  \n",
       "0  Case de Passage De la Prefecture  \n",
       "1         Kagel Mari Police Station  \n",
       "2        Pharmacie alnadja Moussoro  \n",
       "3    Hôtel Trois Étoiles de Biltine  \n",
       "4  Case de Passage De la Prefecture  "
      ]
     },
     "execution_count": 118,
     "metadata": {},
     "output_type": "execute_result"
    }
   ],
   "source": [
    "# 8. To create a marker layer map between the four cities.\n",
    "#  Combine the four city DataFrames into one DataFrame using the concat() function.\n",
    "itinerary_df = pd.concat([vacation_start, vacation_stop1, vacation_stop2, vacation_stop3, vacation_end], ignore_index=True)\n",
    "itinerary_df"
   ]
  },
  {
   "cell_type": "code",
   "execution_count": 119,
   "metadata": {},
   "outputs": [],
   "source": [
    "# 9 Using the template add city name, the country code, the weather description and maximum temperature for the city. \n",
    "info_box_template = \"\"\"\n",
    "<dl>\n",
    "<dt>City</dt><dd>{City}</dd>\n",
    "<dt>Country</dt><dd>{Country}</dd>\n",
    "<dt>City Descripton</dt><dd>{City Description}</dd>\n",
    "<dt>Max Temp</dt><dd>{Max Temp} °F</dd>\n",
    "</dl>\n",
    "\"\"\"\n",
    "# 10a Get the data from each row and add it to the formatting template and store the data in a list.\n",
    "hotel_info = [info_box_template.format(**row) for index, row in itinerary_df.iterrows()]\n",
    "\n",
    "# 10b. Get the latitude and longitude from each row and store in a new DataFrame.\n",
    "locations = itinerary_df[[\"Lat\", \"Lng\"]]"
   ]
  },
  {
   "cell_type": "code",
   "execution_count": 120,
   "metadata": {},
   "outputs": [
    {
     "data": {
      "application/vnd.jupyter.widget-view+json": {
       "model_id": "fc2a9722bb354f61bd6868e6f002c98b",
       "version_major": 2,
       "version_minor": 0
      },
      "text/plain": [
       "Figure(layout=FigureLayout(border='1px solid black', height='550px', margin='0 auto 0 auto', padding='1px', wi…"
      ]
     },
     "metadata": {},
     "output_type": "display_data"
    }
   ],
   "source": [
    "# 11a. Add a marker layer for each city to the map.\n",
    "figure_layout = {\n",
    "    'width': '1800px',\n",
    "    'height': '550px',\n",
    "    'border': '1px solid black',\n",
    "    'padding': '1px',\n",
    "    'margin': '0 auto 0 auto'\n",
    "}\n",
    "\n",
    "fig = gmaps.figure(layout=figure_layout)\n",
    "markers = gmaps.marker_layer(locations, info_box_content=hotel_info)\n",
    "\n",
    "fig.add_layer(markers)\n",
    "\n",
    "# 11b. Display the figure\n",
    "fig"
   ]
  },
  {
   "cell_type": "code",
   "execution_count": null,
   "metadata": {},
   "outputs": [],
   "source": []
  }
 ],
 "metadata": {
  "kernelspec": {
   "display_name": "pythondata",
   "language": "python",
   "name": "pythondata"
  },
  "language_info": {
   "codemirror_mode": {
    "name": "ipython",
    "version": 3
   },
   "file_extension": ".py",
   "mimetype": "text/x-python",
   "name": "python",
   "nbconvert_exporter": "python",
   "pygments_lexer": "ipython3",
   "version": "3.7.10"
  },
  "latex_envs": {
   "LaTeX_envs_menu_present": true,
   "autoclose": false,
   "autocomplete": true,
   "bibliofile": "biblio.bib",
   "cite_by": "apalike",
   "current_citInitial": 1,
   "eqLabelWithNumbers": true,
   "eqNumInitial": 1,
   "hotkeys": {
    "equation": "Ctrl-E",
    "itemize": "Ctrl-I"
   },
   "labels_anchors": false,
   "latex_user_defs": false,
   "report_style_numbering": false,
   "user_envs_cfg": false
  }
 },
 "nbformat": 4,
 "nbformat_minor": 2
}
